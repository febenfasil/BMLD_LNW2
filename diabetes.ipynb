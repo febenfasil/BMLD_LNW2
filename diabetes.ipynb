{
 "cells": [
  {
   "cell_type": "markdown",
   "metadata": {},
   "source": [
    "# Fragestellung und Datenbeschaffung"
   ]
  },
  {
   "cell_type": "markdown",
   "metadata": {},
   "source": [
    "### 1.1 Titel:"
   ]
  },
  {
   "cell_type": "markdown",
   "metadata": {},
   "source": [
    "Diabetes_ 1"
   ]
  },
  {
   "cell_type": "markdown",
   "metadata": {},
   "source": [
    "### 1.2 Fragestellung"
   ]
  },
  {
   "cell_type": "markdown",
   "metadata": {},
   "source": [
    "- In wiefern beeinflusst der BMI das Risiko an Diabetes zu erkranken?\n",
    "- Welche Faktoren beeinflussen das Risiko an Diabetes zu erkranken?\n",
    "\n"
   ]
  },
  {
   "cell_type": "markdown",
   "metadata": {},
   "source": [
    "### 1.3 Datenquelle"
   ]
  },
  {
   "cell_type": "markdown",
   "metadata": {},
   "source": [
    "https://www.kaggle.com/datasets/nanditapore/healthcare-diabetes?resource=download"
   ]
  },
  {
   "cell_type": "markdown",
   "metadata": {},
   "source": [
    "### 1.4 Daten beschaffen und laden"
   ]
  },
  {
   "cell_type": "code",
   "execution_count": 114,
   "metadata": {},
   "outputs": [],
   "source": [
    "import pandas as pd\n",
    "import matplotlib.pyplot as plt\n",
    "import numpy as np\n",
    "from matplotlib.patches import ConnectionPatch\n"
   ]
  },
  {
   "cell_type": "code",
   "execution_count": 115,
   "metadata": {},
   "outputs": [],
   "source": [
    "df = pd.read_csv('data/Healthcare-Diabetes.csv')"
   ]
  },
  {
   "cell_type": "markdown",
   "metadata": {},
   "source": [
    "## 2. Datenvorbereitung\n",
    "\n",
    "### Beschreibung\n",
    "Das Datenset enthält unterschiedliche Risikofakteroen, welche im Zusammenhang mit Diabetes auftauchen können und allgemeine Gesundheitsdaten, wie Alter, Geschlecht etc. Diese werden in Outcome definiert ob die Person Diabetes hat oder nicht durch 0 = kein Diabetes und 1= Diabetes. Demensprechen ist es uns möglich auf Grund unseres Datensatzes festzu stellen, ob bestimmte Prameter ein erhöhtes Risiko auf Diabetes angeben. \n",
    "Das Datenset kann dazu eingesetzt werden personen früher zu diagnostizieren und eventuel auch präventive Massnahmen zu ergreifen.\n",
    "\n",
    "Bei den Daten Handelt es sich immer um Diabetes Typ 2, da dieses Erworben wird im Alter. Bei Typ 1 handelt es isch um eine Autoimmunerkrankung gegen die Inselzellen der Bauchspeicheldrüse. \n",
    "\n",
    "Bei den Personen welche im Datenset sind ist es noch wichtig anzumerken: sie sind alle mit Risikofaktoren zu Diabetes in dem Datenset, es handelt sich nicht um komplett gesunde Menschen."
   ]
  },
  {
   "cell_type": "markdown",
   "metadata": {},
   "source": [
    "### 2.1 Analyse\n",
    "- Die Roh-Daten sind im Long-Format\n",
    "- Jede Spalte ist ein Patient, dessen Daten wiedergeben werden\n",
    "- Steht eine Null sind die Daten nicht erfasst worden\n"
   ]
  },
  {
   "cell_type": "code",
   "execution_count": 116,
   "metadata": {},
   "outputs": [
    {
     "data": {
      "text/html": [
       "<div>\n",
       "<style scoped>\n",
       "    .dataframe tbody tr th:only-of-type {\n",
       "        vertical-align: middle;\n",
       "    }\n",
       "\n",
       "    .dataframe tbody tr th {\n",
       "        vertical-align: top;\n",
       "    }\n",
       "\n",
       "    .dataframe thead th {\n",
       "        text-align: right;\n",
       "    }\n",
       "</style>\n",
       "<table border=\"1\" class=\"dataframe\">\n",
       "  <thead>\n",
       "    <tr style=\"text-align: right;\">\n",
       "      <th></th>\n",
       "      <th>Id</th>\n",
       "      <th>Pregnancies</th>\n",
       "      <th>Glucose</th>\n",
       "      <th>BloodPressure</th>\n",
       "      <th>SkinThickness</th>\n",
       "      <th>Insulin</th>\n",
       "      <th>BMI</th>\n",
       "      <th>DiabetesPedigreeFunction</th>\n",
       "      <th>Age</th>\n",
       "      <th>Outcome</th>\n",
       "    </tr>\n",
       "  </thead>\n",
       "  <tbody>\n",
       "    <tr>\n",
       "      <th>0</th>\n",
       "      <td>1</td>\n",
       "      <td>6</td>\n",
       "      <td>148</td>\n",
       "      <td>72</td>\n",
       "      <td>35</td>\n",
       "      <td>0</td>\n",
       "      <td>33.6</td>\n",
       "      <td>0.627</td>\n",
       "      <td>50</td>\n",
       "      <td>1</td>\n",
       "    </tr>\n",
       "    <tr>\n",
       "      <th>1</th>\n",
       "      <td>2</td>\n",
       "      <td>1</td>\n",
       "      <td>85</td>\n",
       "      <td>66</td>\n",
       "      <td>29</td>\n",
       "      <td>0</td>\n",
       "      <td>26.6</td>\n",
       "      <td>0.351</td>\n",
       "      <td>31</td>\n",
       "      <td>0</td>\n",
       "    </tr>\n",
       "    <tr>\n",
       "      <th>2</th>\n",
       "      <td>3</td>\n",
       "      <td>8</td>\n",
       "      <td>183</td>\n",
       "      <td>64</td>\n",
       "      <td>0</td>\n",
       "      <td>0</td>\n",
       "      <td>23.3</td>\n",
       "      <td>0.672</td>\n",
       "      <td>32</td>\n",
       "      <td>1</td>\n",
       "    </tr>\n",
       "    <tr>\n",
       "      <th>3</th>\n",
       "      <td>4</td>\n",
       "      <td>1</td>\n",
       "      <td>89</td>\n",
       "      <td>66</td>\n",
       "      <td>23</td>\n",
       "      <td>94</td>\n",
       "      <td>28.1</td>\n",
       "      <td>0.167</td>\n",
       "      <td>21</td>\n",
       "      <td>0</td>\n",
       "    </tr>\n",
       "    <tr>\n",
       "      <th>4</th>\n",
       "      <td>5</td>\n",
       "      <td>0</td>\n",
       "      <td>137</td>\n",
       "      <td>40</td>\n",
       "      <td>35</td>\n",
       "      <td>168</td>\n",
       "      <td>43.1</td>\n",
       "      <td>2.288</td>\n",
       "      <td>33</td>\n",
       "      <td>1</td>\n",
       "    </tr>\n",
       "  </tbody>\n",
       "</table>\n",
       "</div>"
      ],
      "text/plain": [
       "   Id  Pregnancies  Glucose  BloodPressure  SkinThickness  Insulin   BMI  \\\n",
       "0   1            6      148             72             35        0  33.6   \n",
       "1   2            1       85             66             29        0  26.6   \n",
       "2   3            8      183             64              0        0  23.3   \n",
       "3   4            1       89             66             23       94  28.1   \n",
       "4   5            0      137             40             35      168  43.1   \n",
       "\n",
       "   DiabetesPedigreeFunction  Age  Outcome  \n",
       "0                     0.627   50        1  \n",
       "1                     0.351   31        0  \n",
       "2                     0.672   32        1  \n",
       "3                     0.167   21        0  \n",
       "4                     2.288   33        1  "
      ]
     },
     "execution_count": 116,
     "metadata": {},
     "output_type": "execute_result"
    }
   ],
   "source": [
    "df.head()"
   ]
  },
  {
   "cell_type": "markdown",
   "metadata": {},
   "source": [
    "## 3. Rohdatenanalyse\n",
    "\n"
   ]
  },
  {
   "cell_type": "markdown",
   "metadata": {},
   "source": [
    "### 3.1 Allgemein"
   ]
  },
  {
   "cell_type": "markdown",
   "metadata": {},
   "source": [
    "- Wir haben Id, Schwangerschaften, Glucose, Blutdruck, Dicke der Haut, Insulin, BMI, Risiko auf Diabetes in bezug auf die Familien Geschichte, Alter, Resultat (Diabetes Ja/Nein)\n",
    "- 2768 Patienten Daten sind im Daten-Set "
   ]
  },
  {
   "cell_type": "code",
   "execution_count": 117,
   "metadata": {},
   "outputs": [
    {
     "data": {
      "text/plain": [
       "Id                            int64\n",
       "Pregnancies                   int64\n",
       "Glucose                       int64\n",
       "BloodPressure                 int64\n",
       "SkinThickness                 int64\n",
       "Insulin                       int64\n",
       "BMI                         float64\n",
       "DiabetesPedigreeFunction    float64\n",
       "Age                           int64\n",
       "Outcome                       int64\n",
       "dtype: object"
      ]
     },
     "execution_count": 117,
     "metadata": {},
     "output_type": "execute_result"
    }
   ],
   "source": [
    "df.dtypes"
   ]
  },
  {
   "cell_type": "code",
   "execution_count": 118,
   "metadata": {},
   "outputs": [
    {
     "data": {
      "text/plain": [
       "(2768, 10)"
      ]
     },
     "execution_count": 118,
     "metadata": {},
     "output_type": "execute_result"
    }
   ],
   "source": [
    "df.shape"
   ]
  },
  {
   "cell_type": "markdown",
   "metadata": {},
   "source": [
    "### 3.2 BMI\n",
    "Es ist einfach zu erkennen, das die Personen tendenziell einen erhöhten BMI aufweisen. \n",
    "Der Druchschnitts BMI aus dem Datenset ist: 32.1374"
   ]
  },
  {
   "cell_type": "code",
   "execution_count": 119,
   "metadata": {},
   "outputs": [
    {
     "name": "stdout",
     "output_type": "stream",
     "text": [
      "BMI Durchschnitt:  32.13739161849711\n"
     ]
    }
   ],
   "source": [
    "df[\"BMI\"].mean()\n",
    "print(\"BMI Durchschnitt: \",df[\"BMI\"].mean())"
   ]
  },
  {
   "cell_type": "code",
   "execution_count": 120,
   "metadata": {},
   "outputs": [
    {
     "data": {
      "image/png": "[encoded data removed]",
      "text/plain": [
       "<Figure size 640x480 with 1 Axes>"
      ]
     },
     "metadata": {},
     "output_type": "display_data"
    }
   ],
   "source": [
    "df[\"BMI\"].plot(kind='hist', bins=20)\n",
    "\n",
    "plt.title('Verteilung des BMI')\n",
    "plt.xlabel('BMI')\n",
    "plt.ylabel('Häufigkeit')\n",
    "plt.legend(['BMI-Daten'], loc='upper right')\n",
    "plt.annotate('Max BMI', xy=(df[\"BMI\"].max(), 0), xytext=(df[\"BMI\"].max() + 5, 15),\n",
    "             arrowprops=dict(facecolor='black', shrink=0.05))\n",
    "\n",
    "plt.show()\n"
   ]
  },
  {
   "cell_type": "markdown",
   "metadata": {},
   "source": [
    "Durch die Analyse im Diagramm konnte festgestellt werden, dass es Daten gibt welche gleich Null sind. So ist unser Durchschnitt nicht ganz korrekt. \n",
    "Es hat 39 Patienten welche den BMI nicht angegeben haben und der BMI somit gleich Null ist. \n",
    "Wenn man diese 39 Patienten aus dem Durchschnitt herausrechnet ist der neue Durchschnitt: 32.5966\n"
   ]
  },
  {
   "cell_type": "code",
   "execution_count": 121,
   "metadata": {},
   "outputs": [
    {
     "name": "stdout",
     "output_type": "stream",
     "text": [
      "Anzahl unrealistischer BMI: \n",
      "39\n"
     ]
    }
   ],
   "source": [
    "\n",
    "def cout_unrealistic_bmi():\n",
    "    bmi_count = 0\n",
    "    for bmi in df[\"BMI\"]:\n",
    "        if bmi == 0:\n",
    "            bmi_count = 1 + bmi_count\n",
    "    print(bmi_count)\n",
    "\n",
    "print(\"Anzahl unrealistischer BMI: \")\n",
    "    \n",
    "cout_unrealistic_bmi()\n"
   ]
  },
  {
   "cell_type": "code",
   "execution_count": 122,
   "metadata": {},
   "outputs": [
    {
     "name": "stdout",
     "output_type": "stream",
     "text": [
      "BMI Durchschnitt:  32.59666544521803\n"
     ]
    }
   ],
   "source": [
    "df[df[\"BMI\"] != 0][\"BMI\"].mean()\n",
    "print(\"BMI Durchschnitt: \",df[df[\"BMI\"] != 0][\"BMI\"].mean())"
   ]
  },
  {
   "cell_type": "markdown",
   "metadata": {},
   "source": [
    "### 3.2 Blutdruck "
   ]
  },
  {
   "cell_type": "markdown",
   "metadata": {},
   "source": [
    "Der durchschnittliche Blutdruck liegt bei 72.40 ohne die die einen Null Wert eingetragen haben\n"
   ]
  },
  {
   "cell_type": "code",
   "execution_count": 123,
   "metadata": {},
   "outputs": [
    {
     "name": "stdout",
     "output_type": "stream",
     "text": [
      "Blutdruck Durchschnitt:  72.40408626560726\n"
     ]
    }
   ],
   "source": [
    "df[df[\"BloodPressure\"] != 0][\"BloodPressure\"].mean()\n",
    "\n",
    "print(\"Blutdruck Durchschnitt: \",df[df[\"BloodPressure\"] != 0][\"BloodPressure\"].mean())"
   ]
  },
  {
   "cell_type": "code",
   "execution_count": 124,
   "metadata": {},
   "outputs": [
    {
     "data": {
      "image/png": "[encoded data removed]",
      "text/plain": [
       "<Figure size 640x480 with 1 Axes>"
      ]
     },
     "metadata": {},
     "output_type": "display_data"
    }
   ],
   "source": [
    "df[\"BloodPressure\"].plot(kind='hist', bins=30)\n",
    "\n",
    "plt.title('Verteilung des Blutruckes')\n",
    "plt.xlabel('Blutdruck mmHg')\n",
    "plt.ylabel('Häufigkeit')\n",
    "plt.legend(['BloodPressure-Daten'], loc='upper right')\n",
    "plt.annotate('Max BloodPressure', xy=(df[\"BloodPressure\"].max(), 0))\n",
    "\n",
    "plt.show()"
   ]
  },
  {
   "cell_type": "markdown",
   "metadata": {},
   "source": [
    "### 3.3 Alter\n",
    "Das Durchschnittsalter der Patienten ist 33 Jahre\n",
    "Es hat sehr viele sehr junge Patienten die den Altersdurchschnitt sehr runterziehen."
   ]
  },
  {
   "cell_type": "code",
   "execution_count": 125,
   "metadata": {},
   "outputs": [
    {
     "name": "stdout",
     "output_type": "stream",
     "text": [
      "Alters Durchschnitt:  33.13222543352601\n"
     ]
    }
   ],
   "source": [
    "df[df[\"Age\"] != 0][\"Age\"].mean()\n",
    "\n",
    "print(\"Alters Durchschnitt: \",df[df[\"Age\"] != 0][\"Age\"].mean())"
   ]
  },
  {
   "cell_type": "code",
   "execution_count": 126,
   "metadata": {},
   "outputs": [
    {
     "data": {
      "image/png": "[encoded data removed]",
      "text/plain": [
       "<Figure size 640x480 with 1 Axes>"
      ]
     },
     "metadata": {},
     "output_type": "display_data"
    }
   ],
   "source": [
    "df[\"Age\"].plot(kind='hist', bins=30)\n",
    "\n",
    "plt.title('Verteilung des Blutruckes')\n",
    "plt.xlabel('Alter in Jahren')\n",
    "plt.ylabel('Häufigkeit')\n",
    "plt.legend(['Age-Daten'], loc='upper right')\n",
    "plt.annotate('Max Age', xy=(df[\"Age\"].max(), 0))\n",
    "\n",
    "plt.show()"
   ]
  },
  {
   "cell_type": "markdown",
   "metadata": {},
   "source": [
    "### 3.4 Resultate"
   ]
  },
  {
   "cell_type": "markdown",
   "metadata": {},
   "source": [
    "In den Patienten Daten haben 34.4% der Patienten Diabates. 65.6% der Patienten leider nicht an Diabetes."
   ]
  },
  {
   "cell_type": "code",
   "execution_count": 127,
   "metadata": {},
   "outputs": [
    {
     "name": "stdout",
     "output_type": "stream",
     "text": [
      "34.39306358381503\n"
     ]
    }
   ],
   "source": [
    "def sum_of_positive ():\n",
    "    positive = 0\n",
    "    for result in df[\"Outcome\"]:\n",
    "        if result == 1:\n",
    "            positive = positive + 1\n",
    "    return positive\n",
    "\n",
    "nr_of_positives = sum_of_positive()\n",
    "total_outcomes = len(df[\"Outcome\"])\n",
    "precentage_positive = (nr_of_positives/total_outcomes)*100\n",
    "\n",
    "print(precentage_positive)\n"
   ]
  },
  {
   "cell_type": "code",
   "execution_count": 128,
   "metadata": {},
   "outputs": [
    {
     "data": {
      "image/png": "[encoded data removed]",
      "text/plain": [
       "<Figure size 640x480 with 1 Axes>"
      ]
     },
     "metadata": {},
     "output_type": "display_data"
    }
   ],
   "source": [
    "labels = \"Diabetes Positive\", \"Diabetes Negative\"\n",
    "sizes = [nr_of_positives, total_outcomes - nr_of_positives]\n",
    "fig,ax = plt.subplots()\n",
    "ax.pie(sizes, autopct=\"%1.1f%%\")\n",
    "\n",
    "ax.legend(labels, title = \"Outcome\", loc= \"center left\", bbox_to_anchor=(1,0.5))\n",
    "ax.set_title(\"Diabetes positive vs. negative Ergebnisse\")\n",
    "\n",
    "plt.show()\n"
   ]
  },
  {
   "cell_type": "markdown",
   "metadata": {},
   "source": [
    "## 4. Zweites Datenset"
   ]
  },
  {
   "cell_type": "markdown",
   "metadata": {},
   "source": [
    "### 4.1 Quelle"
   ]
  },
  {
   "cell_type": "markdown",
   "metadata": {},
   "source": [
    "https://ourworldindata.org/grapher/diabetes-prevalence"
   ]
  },
  {
   "cell_type": "markdown",
   "metadata": {},
   "source": [
    "### 4.2 Daten beschaffen und laden"
   ]
  },
  {
   "cell_type": "code",
   "execution_count": 129,
   "metadata": {},
   "outputs": [],
   "source": [
    "import pandas as pd\n",
    "import matplotlib.pyplot as plt\n",
    "import numpy as np\n",
    "from matplotlib.patches import ConnectionPatch"
   ]
  },
  {
   "cell_type": "code",
   "execution_count": 130,
   "metadata": {},
   "outputs": [],
   "source": [
    "data_wordlwide = pd.read_csv('data/diabetes-prevalence.csv')\n",
    "df = pd.read_csv('data/diabetes-prevalence.csv')"
   ]
  },
  {
   "cell_type": "markdown",
   "metadata": {},
   "source": [
    "## 5. Datenvorbereitung"
   ]
  },
  {
   "cell_type": "markdown",
   "metadata": {},
   "source": [
    "### 5.1 Beschreibung\n",
    "Die Datenquelle enthält Daten zur weltweiten Vertielung von Diabetes. Es enthält Daten zu "
   ]
  },
  {
   "cell_type": "code",
   "execution_count": 131,
   "metadata": {},
   "outputs": [
    {
     "data": {
      "text/html": [
       "<div>\n",
       "<style scoped>\n",
       "    .dataframe tbody tr th:only-of-type {\n",
       "        vertical-align: middle;\n",
       "    }\n",
       "\n",
       "    .dataframe tbody tr th {\n",
       "        vertical-align: top;\n",
       "    }\n",
       "\n",
       "    .dataframe thead th {\n",
       "        text-align: right;\n",
       "    }\n",
       "</style>\n",
       "<table border=\"1\" class=\"dataframe\">\n",
       "  <thead>\n",
       "    <tr style=\"text-align: right;\">\n",
       "      <th></th>\n",
       "      <th>Entity</th>\n",
       "      <th>Code</th>\n",
       "      <th>Year</th>\n",
       "      <th>Diabetes prevalence (% of population ages 20 to 79)</th>\n",
       "    </tr>\n",
       "  </thead>\n",
       "  <tbody>\n",
       "    <tr>\n",
       "      <th>0</th>\n",
       "      <td>Afghanistan</td>\n",
       "      <td>AFG</td>\n",
       "      <td>2011</td>\n",
       "      <td>7.6</td>\n",
       "    </tr>\n",
       "    <tr>\n",
       "      <th>1</th>\n",
       "      <td>Afghanistan</td>\n",
       "      <td>AFG</td>\n",
       "      <td>2021</td>\n",
       "      <td>10.9</td>\n",
       "    </tr>\n",
       "    <tr>\n",
       "      <th>2</th>\n",
       "      <td>Albania</td>\n",
       "      <td>ALB</td>\n",
       "      <td>2011</td>\n",
       "      <td>2.8</td>\n",
       "    </tr>\n",
       "    <tr>\n",
       "      <th>3</th>\n",
       "      <td>Albania</td>\n",
       "      <td>ALB</td>\n",
       "      <td>2021</td>\n",
       "      <td>10.2</td>\n",
       "    </tr>\n",
       "    <tr>\n",
       "      <th>4</th>\n",
       "      <td>Algeria</td>\n",
       "      <td>DZA</td>\n",
       "      <td>2011</td>\n",
       "      <td>7.0</td>\n",
       "    </tr>\n",
       "  </tbody>\n",
       "</table>\n",
       "</div>"
      ],
      "text/plain": [
       "        Entity Code  Year  Diabetes prevalence (% of population ages 20 to 79)\n",
       "0  Afghanistan  AFG  2011                                                7.6  \n",
       "1  Afghanistan  AFG  2021                                               10.9  \n",
       "2      Albania  ALB  2011                                                2.8  \n",
       "3      Albania  ALB  2021                                               10.2  \n",
       "4      Algeria  DZA  2011                                                7.0  "
      ]
     },
     "execution_count": 131,
     "metadata": {},
     "output_type": "execute_result"
    }
   ],
   "source": [
    "data_wordlwide.head()"
   ]
  },
  {
   "cell_type": "markdown",
   "metadata": {},
   "source": [
    "## 6. Rohdatenanalyse"
   ]
  },
  {
   "cell_type": "code",
   "execution_count": 132,
   "metadata": {},
   "outputs": [
    {
     "data": {
      "text/plain": [
       "Entity                                                  object\n",
       "Code                                                    object\n",
       "Year                                                     int64\n",
       "Diabetes prevalence (% of population ages 20 to 79)    float64\n",
       "dtype: object"
      ]
     },
     "execution_count": 132,
     "metadata": {},
     "output_type": "execute_result"
    }
   ],
   "source": [
    "data_wordlwide.dtypes"
   ]
  },
  {
   "cell_type": "markdown",
   "metadata": {},
   "source": [
    "### 6.1 Prävalenz"
   ]
  },
  {
   "cell_type": "markdown",
   "metadata": {},
   "source": [
    "#### Weltweite Prävalenz"
   ]
  },
  {
   "cell_type": "code",
   "execution_count": 148,
   "metadata": {},
   "outputs": [
    {
     "name": "stdout",
     "output_type": "stream",
     "text": [
      "Durchschnittliche Prävalenz in %:  8.647206658531317\n"
     ]
    }
   ],
   "source": [
    "# Muss hier noch das Jahr 2021 ergänzen\n",
    "df[\"Diabetes prevalence (% of population ages 20 to 79)\"].mean()\n",
    "print(\"Durchschnittliche Prävalenz in %: \",df[\"Diabetes prevalence (% of population ages 20 to 79)\"].mean())"
   ]
  },
  {
   "cell_type": "code",
   "execution_count": 147,
   "metadata": {},
   "outputs": [
    {
     "name": "stdout",
     "output_type": "stream",
     "text": [
      "Prävalenz in den USA in %: 10.7\n"
     ]
    }
   ],
   "source": [
    "us_2021_df = df[(df[\"Code\"] == \"USA\") & (df[\"Year\"] == 2021)]\n",
    "us_2021_mean = us_2021_df[\"Diabetes prevalence (% of population ages 20 to 79)\"].mean()\n",
    "print(\"Prävalenz in den USA in %:\", us_2021_mean)"
   ]
  },
  {
   "cell_type": "markdown",
   "metadata": {},
   "source": [
    "##  7. Analyse"
   ]
  },
  {
   "cell_type": "code",
   "execution_count": 149,
   "metadata": {},
   "outputs": [
    {
     "ename": "KeyError",
     "evalue": "'BMI'",
     "output_type": "error",
     "traceback": [
      "\u001b[0;31m---------------------------------------------------------------------------\u001b[0m",
      "\u001b[0;31mKeyError\u001b[0m                                  Traceback (most recent call last)",
      "File \u001b[0;32m/opt/anaconda3/lib/python3.12/site-packages/pandas/core/indexes/base.py:3805\u001b[0m, in \u001b[0;36mIndex.get_loc\u001b[0;34m(self, key)\u001b[0m\n\u001b[1;32m   3804\u001b[0m \u001b[38;5;28;01mtry\u001b[39;00m:\n\u001b[0;32m-> 3805\u001b[0m     \u001b[38;5;28;01mreturn\u001b[39;00m \u001b[38;5;28mself\u001b[39m\u001b[38;5;241m.\u001b[39m_engine\u001b[38;5;241m.\u001b[39mget_loc(casted_key)\n\u001b[1;32m   3806\u001b[0m \u001b[38;5;28;01mexcept\u001b[39;00m \u001b[38;5;167;01mKeyError\u001b[39;00m \u001b[38;5;28;01mas\u001b[39;00m err:\n",
      "File \u001b[0;32mindex.pyx:167\u001b[0m, in \u001b[0;36mpandas._libs.index.IndexEngine.get_loc\u001b[0;34m()\u001b[0m\n",
      "File \u001b[0;32mindex.pyx:196\u001b[0m, in \u001b[0;36mpandas._libs.index.IndexEngine.get_loc\u001b[0;34m()\u001b[0m\n",
      "File \u001b[0;32mpandas/_libs/hashtable_class_helper.pxi:7081\u001b[0m, in \u001b[0;36mpandas._libs.hashtable.PyObjectHashTable.get_item\u001b[0;34m()\u001b[0m\n",
      "File \u001b[0;32mpandas/_libs/hashtable_class_helper.pxi:7089\u001b[0m, in \u001b[0;36mpandas._libs.hashtable.PyObjectHashTable.get_item\u001b[0;34m()\u001b[0m\n",
      "\u001b[0;31mKeyError\u001b[0m: 'BMI'",
      "\nThe above exception was the direct cause of the following exception:\n",
      "\u001b[0;31mKeyError\u001b[0m                                  Traceback (most recent call last)",
      "Cell \u001b[0;32mIn[149], line 1\u001b[0m\n\u001b[0;32m----> 1\u001b[0m df \u001b[38;5;241m=\u001b[39m df[df[\u001b[38;5;124m'\u001b[39m\u001b[38;5;124mBMI\u001b[39m\u001b[38;5;124m'\u001b[39m] \u001b[38;5;241m>\u001b[39m \u001b[38;5;241m0\u001b[39m]\n\u001b[1;32m      3\u001b[0m positive_count \u001b[38;5;241m=\u001b[39m (df[\u001b[38;5;124m'\u001b[39m\u001b[38;5;124mOutcome\u001b[39m\u001b[38;5;124m'\u001b[39m] \u001b[38;5;241m==\u001b[39m \u001b[38;5;241m1\u001b[39m)\u001b[38;5;241m.\u001b[39msum()\n\u001b[1;32m      4\u001b[0m negative_count \u001b[38;5;241m=\u001b[39m (df[\u001b[38;5;124m'\u001b[39m\u001b[38;5;124mOutcome\u001b[39m\u001b[38;5;124m'\u001b[39m] \u001b[38;5;241m==\u001b[39m \u001b[38;5;241m0\u001b[39m)\u001b[38;5;241m.\u001b[39msum()\n",
      "File \u001b[0;32m/opt/anaconda3/lib/python3.12/site-packages/pandas/core/frame.py:4102\u001b[0m, in \u001b[0;36mDataFrame.__getitem__\u001b[0;34m(self, key)\u001b[0m\n\u001b[1;32m   4100\u001b[0m \u001b[38;5;28;01mif\u001b[39;00m \u001b[38;5;28mself\u001b[39m\u001b[38;5;241m.\u001b[39mcolumns\u001b[38;5;241m.\u001b[39mnlevels \u001b[38;5;241m>\u001b[39m \u001b[38;5;241m1\u001b[39m:\n\u001b[1;32m   4101\u001b[0m     \u001b[38;5;28;01mreturn\u001b[39;00m \u001b[38;5;28mself\u001b[39m\u001b[38;5;241m.\u001b[39m_getitem_multilevel(key)\n\u001b[0;32m-> 4102\u001b[0m indexer \u001b[38;5;241m=\u001b[39m \u001b[38;5;28mself\u001b[39m\u001b[38;5;241m.\u001b[39mcolumns\u001b[38;5;241m.\u001b[39mget_loc(key)\n\u001b[1;32m   4103\u001b[0m \u001b[38;5;28;01mif\u001b[39;00m is_integer(indexer):\n\u001b[1;32m   4104\u001b[0m     indexer \u001b[38;5;241m=\u001b[39m [indexer]\n",
      "File \u001b[0;32m/opt/anaconda3/lib/python3.12/site-packages/pandas/core/indexes/base.py:3812\u001b[0m, in \u001b[0;36mIndex.get_loc\u001b[0;34m(self, key)\u001b[0m\n\u001b[1;32m   3807\u001b[0m     \u001b[38;5;28;01mif\u001b[39;00m \u001b[38;5;28misinstance\u001b[39m(casted_key, \u001b[38;5;28mslice\u001b[39m) \u001b[38;5;129;01mor\u001b[39;00m (\n\u001b[1;32m   3808\u001b[0m         \u001b[38;5;28misinstance\u001b[39m(casted_key, abc\u001b[38;5;241m.\u001b[39mIterable)\n\u001b[1;32m   3809\u001b[0m         \u001b[38;5;129;01mand\u001b[39;00m \u001b[38;5;28many\u001b[39m(\u001b[38;5;28misinstance\u001b[39m(x, \u001b[38;5;28mslice\u001b[39m) \u001b[38;5;28;01mfor\u001b[39;00m x \u001b[38;5;129;01min\u001b[39;00m casted_key)\n\u001b[1;32m   3810\u001b[0m     ):\n\u001b[1;32m   3811\u001b[0m         \u001b[38;5;28;01mraise\u001b[39;00m InvalidIndexError(key)\n\u001b[0;32m-> 3812\u001b[0m     \u001b[38;5;28;01mraise\u001b[39;00m \u001b[38;5;167;01mKeyError\u001b[39;00m(key) \u001b[38;5;28;01mfrom\u001b[39;00m \u001b[38;5;21;01merr\u001b[39;00m\n\u001b[1;32m   3813\u001b[0m \u001b[38;5;28;01mexcept\u001b[39;00m \u001b[38;5;167;01mTypeError\u001b[39;00m:\n\u001b[1;32m   3814\u001b[0m     \u001b[38;5;66;03m# If we have a listlike key, _check_indexing_error will raise\u001b[39;00m\n\u001b[1;32m   3815\u001b[0m     \u001b[38;5;66;03m#  InvalidIndexError. Otherwise we fall through and re-raise\u001b[39;00m\n\u001b[1;32m   3816\u001b[0m     \u001b[38;5;66;03m#  the TypeError.\u001b[39;00m\n\u001b[1;32m   3817\u001b[0m     \u001b[38;5;28mself\u001b[39m\u001b[38;5;241m.\u001b[39m_check_indexing_error(key)\n",
      "\u001b[0;31mKeyError\u001b[0m: 'BMI'"
     ]
    }
   ],
   "source": [
    "\n",
    "\n",
    "df = df[df['BMI'] > 0]\n",
    "\n",
    "positive_count = (df['Outcome'] == 1).sum()\n",
    "negative_count = (df['Outcome'] == 0).sum()\n",
    "total = positive_count + negative_count\n",
    "\n",
    "positive_ratio = positive_count / total\n",
    "negative_ratio = negative_count / total\n",
    "\n",
    "def get_bmi_category(bmi):\n",
    "    if bmi < 18.5:\n",
    "        return 'Underweight'\n",
    "    elif bmi < 25:\n",
    "        return 'Normal'\n",
    "    elif bmi < 30:\n",
    "        return 'Overweight'\n",
    "    elif bmi < 40:\n",
    "        return 'Obese'\n",
    "    else:\n",
    "        return 'Morbid Obesity'\n",
    "\n",
    "positive_df = df[df['Outcome'] == 1].copy()\n",
    "positive_df['BMI_Category'] = positive_df['BMI'].apply(get_bmi_category)\n",
    "\n",
    "bmi_counts = positive_df['BMI_Category'].value_counts()\n",
    "bmi_ratios = bmi_counts / bmi_counts.sum()\n",
    "\n",
    "bmi_categories_order = ['Underweight', 'Normal', 'Overweight', 'Obese', 'Morbid Obesity']\n",
    "bmi_ratios_ordered = [bmi_ratios.get(cat, 0) for cat in bmi_categories_order]\n",
    "\n",
    "fig, (ax1, ax2) = plt.subplots(1, 2, figsize=(12, 5))\n",
    "fig.subplots_adjust(wspace=0)\n",
    "\n",
    "labels = ['Positive Outcomes', 'Negative Outcomes']\n",
    "ratios = [positive_ratio, negative_ratio]\n",
    "explode = [0.1, 0]\n",
    "angle = -180 * ratios[0]\n",
    "\n",
    "wedges, *_ = ax1.pie(ratios, autopct='%1.1f%%', startangle=angle,\n",
    "                     labels=labels, explode=explode, colors=['C0', 'C1'])\n",
    "ax1.set_title(\"Overall Outcomes\")\n",
    "\n",
    "width = 0.2\n",
    "bottom = 0\n",
    "\n",
    "for j, (height, category) in enumerate(zip(bmi_ratios_ordered, bmi_categories_order)):\n",
    "    bc = ax2.bar(0, height, width, bottom=bottom, color='C0',\n",
    "                 alpha=0.1 + 0.22 * j, label=category)\n",
    "    label_text = f\"{category} ({height:.0%})\"\n",
    "    bar_center = bottom + height / 2.0\n",
    "    \n",
    "    if height < 0.02:\n",
    "        ax2.annotate(\n",
    "            label_text,                      \n",
    "            xy=(0 + width/2, bar_center),    \n",
    "            xytext=(0.5, bar_center),        \n",
    "            arrowprops=dict(arrowstyle=\"->\", lw=1),\n",
    "            va='center'\n",
    "        )\n",
    "    else:\n",
    "        ax2.bar_label(bc, labels=[f\"{height:.0%}\"], label_type='center')\n",
    "    \n",
    "    bottom += height\n",
    "\n",
    "ax2.set_title(\"BMI Categories (Positive Outcomes)\")\n",
    "ax2.legend()\n",
    "ax2.axis('off')\n",
    "ax2.set_xlim(-2.5 * width, 2.5 * width)\n",
    "\n",
    "positive_wedge = wedges[0]\n",
    "theta1, theta2 = positive_wedge.theta1, positive_wedge.theta2\n",
    "center, r = positive_wedge.center, positive_wedge.r\n",
    "bar_height = sum(bmi_ratios_ordered)\n",
    "\n",
    "x = r * np.cos(np.pi / 180 * theta2) + center[0]\n",
    "y = r * np.sin(np.pi / 180 * theta2) + center[1]\n",
    "con = ConnectionPatch(xyA=(-width / 2, bar_height), coordsA=ax2.transData,\n",
    "                      xyB=(x, y), coordsB=ax1.transData)\n",
    "con.set_color([0, 0, 0])\n",
    "con.set_linewidth(4)\n",
    "ax2.add_artist(con)\n",
    "\n",
    "x = r * np.cos(np.pi / 180 * theta1) + center[0]\n",
    "y = r * np.sin(np.pi / 180 * theta1) + center[1]\n",
    "con = ConnectionPatch(xyA=(-width / 2, 0), coordsA=ax2.transData,\n",
    "                      xyB=(x, y), coordsB=ax1.transData)\n",
    "con.set_color([0, 0, 0])\n",
    "ax2.add_artist(con)\n",
    "con.set_linewidth(4)\n",
    "\n",
    "plt.show()"
   ]
  },
  {
   "cell_type": "code",
   "execution_count": null,
   "metadata": {},
   "outputs": [],
   "source": []
  }
 ],
 "metadata": {
  "kernelspec": {
   "display_name": "base",
   "language": "python",
   "name": "python3"
  },
  "language_info": {
   "codemirror_mode": {
    "name": "ipython",
    "version": 3
   },
   "file_extension": ".py",
   "mimetype": "text/x-python",
   "name": "python",
   "nbconvert_exporter": "python",
   "pygments_lexer": "ipython3",
   "version": "3.12.4"
  }
 },
 "nbformat": 4,
 "nbformat_minor": 2
}

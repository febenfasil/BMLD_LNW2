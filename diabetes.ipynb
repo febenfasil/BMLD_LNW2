{
 "cells": [
  {
   "cell_type": "markdown",
   "metadata": {},
   "source": [
    "# Fragestellugn und Datenbeschaffung"
   ]
  },
  {
   "cell_type": "markdown",
   "metadata": {},
   "source": [
    "### 1.1 Titel:"
   ]
  },
  {
   "cell_type": "markdown",
   "metadata": {},
   "source": [
    "Diabetes"
   ]
  },
  {
   "cell_type": "markdown",
   "metadata": {},
   "source": [
    "### 1.2 Fragestellung"
   ]
  },
  {
   "cell_type": "markdown",
   "metadata": {},
   "source": [
    "bla bla "
   ]
  },
  {
   "cell_type": "markdown",
   "metadata": {},
   "source": [
    "### 1.3 Datenquelle"
   ]
  },
  {
   "cell_type": "markdown",
   "metadata": {},
   "source": [
    "https://www.kaggle.com/datasets/nanditapore/healthcare-diabetes?resource=download"
   ]
  },
  {
   "cell_type": "markdown",
   "metadata": {},
   "source": [
    "### 1.4 Daten beschaffen und laden"
   ]
  },
  {
   "cell_type": "code",
   "execution_count": 3,
   "metadata": {},
   "outputs": [],
   "source": [
    "import pandas as pd\n",
    "import matplotlib.pyplot as plt\n"
   ]
  },
  {
   "cell_type": "code",
   "execution_count": 4,
   "metadata": {},
   "outputs": [],
   "source": [
    "df = pd.read_csv('data/Healthcare-Diabetes.csv')"
   ]
  },
  {
   "cell_type": "markdown",
   "metadata": {},
   "source": [
    "## 2. Daten vorbereitung\n",
    "\n",
    "### Beschreibung\n",
    "Das Datenset enthält unterschiedliche Risikofakteroen, welche im Zusammenhang mit Diabetes auftauchen können und allgemeine Gesundheitsdaten, wie Alter, Geschlecht etc. Diese werden in Outcome definiert ob die Person Diabetes hat oder nicht durch 0 = kein Diabetes und 1= Diabetes. Demensprechen ist es uns möglich auf Grund unseres Datensatzes festzu stellen, ob bestimmte Prameter ein erhöhtes Risiko auf Diabetes angeben. \n",
    "Das Datenset kann dazu eingesetzt werden personen früher zu diagnostizieren und eventuel auch präventive Massnahmen zu ergreifen.\n",
    "\n",
    "Bei den Daten Handelt es sich immer um Diabetes Typ 2, da dieses Erworben wird im Alter. Bei Typ 1 handelt es isch um eine Autoimmunerkrankung gegen die Inselzellen der Bauchspeicheldrüse. \n",
    "\n",
    "Bei den Personen welche im Datenset sind ist es noch wichtig anzumerken: sie sind alle mit Risikofaktoren zu Diabetes in dem Datenset, es handelt sich nicht um komplett gesunde Menschen."
   ]
  },
  {
   "cell_type": "markdown",
   "metadata": {},
   "source": [
    "### 2.1 Analyse\n",
    "- Die Roh-Daten sind im Long-Format\n",
    "- Jede Spalte ist ein Patient, dessen Daten wiedergeben werden\n",
    "- Steht eine Null sind die Daten nicht erfasst worden\n"
   ]
  },
  {
   "cell_type": "code",
   "execution_count": 5,
   "metadata": {},
   "outputs": [
    {
     "data": {
      "text/html": [
       "<div>\n",
       "<style scoped>\n",
       "    .dataframe tbody tr th:only-of-type {\n",
       "        vertical-align: middle;\n",
       "    }\n",
       "\n",
       "    .dataframe tbody tr th {\n",
       "        vertical-align: top;\n",
       "    }\n",
       "\n",
       "    .dataframe thead th {\n",
       "        text-align: right;\n",
       "    }\n",
       "</style>\n",
       "<table border=\"1\" class=\"dataframe\">\n",
       "  <thead>\n",
       "    <tr style=\"text-align: right;\">\n",
       "      <th></th>\n",
       "      <th>Id</th>\n",
       "      <th>Pregnancies</th>\n",
       "      <th>Glucose</th>\n",
       "      <th>BloodPressure</th>\n",
       "      <th>SkinThickness</th>\n",
       "      <th>Insulin</th>\n",
       "      <th>BMI</th>\n",
       "      <th>DiabetesPedigreeFunction</th>\n",
       "      <th>Age</th>\n",
       "      <th>Outcome</th>\n",
       "    </tr>\n",
       "  </thead>\n",
       "  <tbody>\n",
       "    <tr>\n",
       "      <th>0</th>\n",
       "      <td>1</td>\n",
       "      <td>6</td>\n",
       "      <td>148</td>\n",
       "      <td>72</td>\n",
       "      <td>35</td>\n",
       "      <td>0</td>\n",
       "      <td>33.6</td>\n",
       "      <td>0.627</td>\n",
       "      <td>50</td>\n",
       "      <td>1</td>\n",
       "    </tr>\n",
       "    <tr>\n",
       "      <th>1</th>\n",
       "      <td>2</td>\n",
       "      <td>1</td>\n",
       "      <td>85</td>\n",
       "      <td>66</td>\n",
       "      <td>29</td>\n",
       "      <td>0</td>\n",
       "      <td>26.6</td>\n",
       "      <td>0.351</td>\n",
       "      <td>31</td>\n",
       "      <td>0</td>\n",
       "    </tr>\n",
       "    <tr>\n",
       "      <th>2</th>\n",
       "      <td>3</td>\n",
       "      <td>8</td>\n",
       "      <td>183</td>\n",
       "      <td>64</td>\n",
       "      <td>0</td>\n",
       "      <td>0</td>\n",
       "      <td>23.3</td>\n",
       "      <td>0.672</td>\n",
       "      <td>32</td>\n",
       "      <td>1</td>\n",
       "    </tr>\n",
       "    <tr>\n",
       "      <th>3</th>\n",
       "      <td>4</td>\n",
       "      <td>1</td>\n",
       "      <td>89</td>\n",
       "      <td>66</td>\n",
       "      <td>23</td>\n",
       "      <td>94</td>\n",
       "      <td>28.1</td>\n",
       "      <td>0.167</td>\n",
       "      <td>21</td>\n",
       "      <td>0</td>\n",
       "    </tr>\n",
       "    <tr>\n",
       "      <th>4</th>\n",
       "      <td>5</td>\n",
       "      <td>0</td>\n",
       "      <td>137</td>\n",
       "      <td>40</td>\n",
       "      <td>35</td>\n",
       "      <td>168</td>\n",
       "      <td>43.1</td>\n",
       "      <td>2.288</td>\n",
       "      <td>33</td>\n",
       "      <td>1</td>\n",
       "    </tr>\n",
       "  </tbody>\n",
       "</table>\n",
       "</div>"
      ],
      "text/plain": [
       "   Id  Pregnancies  Glucose  BloodPressure  SkinThickness  Insulin   BMI  \\\n",
       "0   1            6      148             72             35        0  33.6   \n",
       "1   2            1       85             66             29        0  26.6   \n",
       "2   3            8      183             64              0        0  23.3   \n",
       "3   4            1       89             66             23       94  28.1   \n",
       "4   5            0      137             40             35      168  43.1   \n",
       "\n",
       "   DiabetesPedigreeFunction  Age  Outcome  \n",
       "0                     0.627   50        1  \n",
       "1                     0.351   31        0  \n",
       "2                     0.672   32        1  \n",
       "3                     0.167   21        0  \n",
       "4                     2.288   33        1  "
      ]
     },
     "execution_count": 5,
     "metadata": {},
     "output_type": "execute_result"
    }
   ],
   "source": [
    "df.head()"
   ]
  },
  {
   "cell_type": "markdown",
   "metadata": {},
   "source": [
    "## 3. Rohdatenanalyse\n",
    "\n"
   ]
  },
  {
   "cell_type": "markdown",
   "metadata": {},
   "source": [
    "### 3.1 Allgemein"
   ]
  },
  {
   "cell_type": "markdown",
   "metadata": {},
   "source": [
    "- Wir haben Id, Schwangerschaften, Glucose, Blutdruck, Dicke der Haut, Insulin, BMI, Risiko auf Diabetes in bezug auf die Familien Geschichte, Alter, Resultat (Diabetes Ja/Nein)\n",
    "- 2768 Patienten Daten sind im Daten-Set "
   ]
  },
  {
   "cell_type": "code",
   "execution_count": 6,
   "metadata": {},
   "outputs": [
    {
     "data": {
      "text/plain": [
       "Id                            int64\n",
       "Pregnancies                   int64\n",
       "Glucose                       int64\n",
       "BloodPressure                 int64\n",
       "SkinThickness                 int64\n",
       "Insulin                       int64\n",
       "BMI                         float64\n",
       "DiabetesPedigreeFunction    float64\n",
       "Age                           int64\n",
       "Outcome                       int64\n",
       "dtype: object"
      ]
     },
     "execution_count": 6,
     "metadata": {},
     "output_type": "execute_result"
    }
   ],
   "source": [
    "df.dtypes"
   ]
  },
  {
   "cell_type": "code",
   "execution_count": 5,
   "metadata": {},
   "outputs": [
    {
     "data": {
      "text/plain": [
       "(2768, 10)"
      ]
     },
     "execution_count": 5,
     "metadata": {},
     "output_type": "execute_result"
    }
   ],
   "source": [
    "df.shape"
   ]
  },
  {
   "cell_type": "markdown",
   "metadata": {},
   "source": [
    "### 3.2 BMI\n",
    "Es ist einfach zu erkennen, das die Personen tendenziell einen erhöhten BMI aufweisen. \n",
    "Der Druchschnitts BMI aus dem Datenset ist: 32.1374"
   ]
  },
  {
   "cell_type": "code",
   "execution_count": 8,
   "metadata": {},
   "outputs": [
    {
     "name": "stdout",
     "output_type": "stream",
     "text": [
      "BMI Durchschnitt:  32.13739161849711\n"
     ]
    }
   ],
   "source": [
    "df[\"BMI\"].mean()\n",
    "print(\"BMI Durchschnitt: \",df[\"BMI\"].mean())"
   ]
  },
  {
   "cell_type": "code",
   "execution_count": 42,
   "metadata": {},
   "outputs": [
    {
     "data": {
      "image/png": "[encoded data removed]",
      "text/plain": [
       "<Figure size 640x480 with 1 Axes>"
      ]
     },
     "metadata": {},
     "output_type": "display_data"
    }
   ],
   "source": [
    "df[\"BMI\"].plot(kind='hist', bins=20)\n",
    "\n",
    "plt.title('Verteilung des BMI')\n",
    "plt.xlabel('BMI')\n",
    "plt.ylabel('Häufigkeit')\n",
    "plt.legend(['BMI-Daten'], loc='upper right')\n",
    "plt.annotate('Max BMI', xy=(df[\"BMI\"].max(), 0), xytext=(df[\"BMI\"].max() + 5, 15),\n",
    "             arrowprops=dict(facecolor='black', shrink=0.05))\n",
    "\n",
    "plt.show()\n"
   ]
  },
  {
   "cell_type": "markdown",
   "metadata": {},
   "source": [
    "Durch die Analyse im Diagramm konnte festgestellt werden, dass es Daten gibt welche gleich Null sind. So ist unser Durchschnitt nicht ganz korrekt. \n",
    "Es hat 39 Patienten welche den BMI nicht angegeben haben und der BMI somit gleich Null ist. \n",
    "Wenn man diese 39 Patienten aus dem Durchschnitt herausrechnet ist der neue Durchschnitt: 32.5966\n"
   ]
  },
  {
   "cell_type": "code",
   "execution_count": null,
   "metadata": {},
   "outputs": [
    {
     "name": "stdout",
     "output_type": "stream",
     "text": [
      "Anzahl unrealistischer BMI :\n",
      "39\n"
     ]
    }
   ],
   "source": [
    "\n",
    "def cout_unrealistic_bmi():\n",
    "    bmi_count = 0\n",
    "    for bmi in df[\"BMI\"]:\n",
    "        if bmi == 0:\n",
    "            bmi_count = 1 + bmi_count\n",
    "    print(bmi_count)\n",
    "\n",
    "print(\"Anzahl unrealistischer BMI: \")\n",
    "    \n",
    "cout_unrealistic_bmi()\n"
   ]
  },
  {
   "cell_type": "code",
   "execution_count": 9,
   "metadata": {},
   "outputs": [
    {
     "name": "stdout",
     "output_type": "stream",
     "text": [
      "BMI Durchschnitt:  32.59666544521803\n"
     ]
    }
   ],
   "source": [
    "df[df[\"BMI\"] != 0][\"BMI\"].mean()\n",
    "print(\"BMI Durchschnitt: \",df[df[\"BMI\"] != 0][\"BMI\"].mean())"
   ]
  },
  {
   "cell_type": "markdown",
   "metadata": {},
   "source": [
    "### 3.2 Blutdruck "
   ]
  },
  {
   "cell_type": "markdown",
   "metadata": {},
   "source": [
    "Der durchschnittliche Blutdruck liegt bei 72.40 ohne die die einen Null Wert eingetragen haben\n"
   ]
  },
  {
   "cell_type": "code",
   "execution_count": 21,
   "metadata": {},
   "outputs": [
    {
     "name": "stdout",
     "output_type": "stream",
     "text": [
      "Blutdruck Durchschnitt:  72.40408626560726\n"
     ]
    }
   ],
   "source": [
    "df[df[\"BloodPressure\"] != 0][\"BloodPressure\"].mean()\n",
    "\n",
    "print(\"Blutdruck Durchschnitt: \",df[df[\"BloodPressure\"] != 0][\"BloodPressure\"].mean())"
   ]
  },
  {
   "cell_type": "code",
   "execution_count": 30,
   "metadata": {},
   "outputs": [
    {
     "data": {
      "image/png": "[encoded data removed]",
      "text/plain": [
       "<Figure size 640x480 with 1 Axes>"
      ]
     },
     "metadata": {},
     "output_type": "display_data"
    }
   ],
   "source": [
    "df[\"BloodPressure\"].plot(kind='hist', bins=30)\n",
    "\n",
    "plt.title('Verteilung des Blutruckes')\n",
    "plt.xlabel('Blutdruck mmHg')\n",
    "plt.ylabel('Häufigkeit')\n",
    "plt.legend(['BloodPressure-Daten'], loc='upper right')\n",
    "plt.annotate('Max BloodPressure', xy=(df[\"BloodPressure\"].max(), 0))\n",
    "\n",
    "plt.show()"
   ]
  },
  {
   "cell_type": "markdown",
   "metadata": {},
   "source": [
    "### 3.3 Alter\n",
    "Das Durchschnittsalter der Patienten ist 33 Jahre\n",
    "Es hat sehr viele sehr junge Patienten die den Altersdurchschnitt sehr runterziehen."
   ]
  },
  {
   "cell_type": "code",
   "execution_count": 31,
   "metadata": {},
   "outputs": [
    {
     "name": "stdout",
     "output_type": "stream",
     "text": [
      "Alters Durchschnitt:  33.13222543352601\n"
     ]
    }
   ],
   "source": [
    "df[df[\"Age\"] != 0][\"Age\"].mean()\n",
    "\n",
    "print(\"Alters Durchschnitt: \",df[df[\"Age\"] != 0][\"Age\"].mean())"
   ]
  },
  {
   "cell_type": "code",
   "execution_count": 32,
   "metadata": {},
   "outputs": [
    {
     "data": {
      "image/png": "[encoded data removed]",
      "text/plain": [
       "<Figure size 640x480 with 1 Axes>"
      ]
     },
     "metadata": {},
     "output_type": "display_data"
    }
   ],
   "source": [
    "df[\"Age\"].plot(kind='hist', bins=30)\n",
    "\n",
    "plt.title('Verteilung des Blutruckes')\n",
    "plt.xlabel('Alter in Jahren')\n",
    "plt.ylabel('Häufigkeit')\n",
    "plt.legend(['Age-Daten'], loc='upper right')\n",
    "plt.annotate('Max Age', xy=(df[\"Age\"].max(), 0))\n",
    "\n",
    "plt.show()"
   ]
  },
  {
   "cell_type": "markdown",
   "metadata": {},
   "source": [
    "### 3.4 Resultate"
   ]
  },
  {
   "cell_type": "code",
   "execution_count": 41,
   "metadata": {},
   "outputs": [
    {
     "name": "stdout",
     "output_type": "stream",
     "text": [
      "<function summ_of_positive at 0x000001CB040328E0>\n"
     ]
    }
   ],
   "source": [
    "def summ_of_positive ():\n",
    "    positive = 1\n",
    "    for result in df[\"Outcome\"]:\n",
    "        if result == 1:\n",
    "            positive = positive + 1\n",
    "    print(positive)\n",
    "\n",
    "\n",
    "print(summ_of_positive)"
   ]
  },
  {
   "cell_type": "code",
   "execution_count": null,
   "metadata": {},
   "outputs": [],
   "source": [
    "percentage_positive = (positive_values / total_values) * 100"
   ]
  }
 ],
 "metadata": {
  "kernelspec": {
   "display_name": "base",
   "language": "python",
   "name": "python3"
  },
  "language_info": {
   "codemirror_mode": {
    "name": "ipython",
    "version": 3
   },
   "file_extension": ".py",
   "mimetype": "text/x-python",
   "name": "python",
   "nbconvert_exporter": "python",
   "pygments_lexer": "ipython3",
   "version": "3.12.4"
  }
 },
 "nbformat": 4,
 "nbformat_minor": 2
}
